{
  "nbformat": 4,
  "nbformat_minor": 0,
  "metadata": {
    "colab": {
      "provenance": [],
      "authorship_tag": "ABX9TyOchRInJm5wasdVJ0vKP1d4",
      "include_colab_link": true
    },
    "kernelspec": {
      "name": "python3",
      "display_name": "Python 3"
    },
    "language_info": {
      "name": "python"
    }
  },
  "cells": [
    {
      "cell_type": "markdown",
      "metadata": {
        "id": "view-in-github",
        "colab_type": "text"
      },
      "source": [
        "<a href=\"https://colab.research.google.com/github/Tanveer66/Python_Practices/blob/BookUpTrunk/ImportantConcepts.ipynb\" target=\"_parent\"><img src=\"https://colab.research.google.com/assets/colab-badge.svg\" alt=\"Open In Colab\"/></a>"
      ]
    },
    {
      "cell_type": "code",
      "execution_count": 3,
      "metadata": {
        "colab": {
          "base_uri": "https://localhost:8080/"
        },
        "id": "Lzits477736Y",
        "outputId": "d301a66d-01f0-469b-80c0-aab9491ea5b1"
      },
      "outputs": [
        {
          "output_type": "stream",
          "name": "stdout",
          "text": [
            "List of random numbers after Sorting : [78, 77, 56, 33, 22, 11, 4]\n"
          ]
        }
      ],
      "source": [
        "#Sorting Number of List\n",
        "\n",
        "lst = [4 , 77 , 33, 22, 11, 56,78]\n",
        "lst.sort()\n",
        "\n",
        "print(f'List of random numbers after Sorting : {lst}')"
      ]
    },
    {
      "cell_type": "code",
      "source": [
        "#Sorting List of strings\n",
        "\n",
        "fruits = ['cherry','Apples','melaon','graps','Banana']\n",
        "fruits.sort()\n",
        "print(f'Fruits List after apply sort() Method :{fruits}')"
      ],
      "metadata": {
        "colab": {
          "base_uri": "https://localhost:8080/"
        },
        "id": "9q80O1ej9WGV",
        "outputId": "c2fdbf79-53a5-4e5a-dd26-590a2db17efe"
      },
      "execution_count": 2,
      "outputs": [
        {
          "output_type": "stream",
          "name": "stdout",
          "text": [
            "Fruits List after apply sort() Method :['Apples', 'Banana', 'cherry', 'graps', 'melaon']\n"
          ]
        }
      ]
    },
    {
      "cell_type": "code",
      "source": [
        "#working with frozenset()\n",
        "lst = [1 ,2,3,4]\n",
        "fset = frozenset(lst)\n",
        "print(f'Frozen set :{fset}')"
      ],
      "metadata": {
        "colab": {
          "base_uri": "https://localhost:8080/"
        },
        "id": "HYeQUNThObPh",
        "outputId": "5873f483-31d7-43af-ece8-84980f382a7e"
      },
      "execution_count": 4,
      "outputs": [
        {
          "output_type": "stream",
          "name": "stdout",
          "text": [
            "Frozen set :frozenset({1, 2, 3, 4})\n"
          ]
        }
      ]
    }
  ]
}