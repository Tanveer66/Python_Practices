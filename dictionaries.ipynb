{
  "nbformat": 4,
  "nbformat_minor": 0,
  "metadata": {
    "colab": {
      "provenance": [],
      "authorship_tag": "ABX9TyMWTQov8wtPaoeyZcfvBrK+",
      "include_colab_link": true
    },
    "kernelspec": {
      "name": "python3",
      "display_name": "Python 3"
    },
    "language_info": {
      "name": "python"
    }
  },
  "cells": [
    {
      "cell_type": "markdown",
      "metadata": {
        "id": "view-in-github",
        "colab_type": "text"
      },
      "source": [
        "<a href=\"https://colab.research.google.com/github/Tanveer66/Python_Practices/blob/BookUpTrunk/dictionaries.ipynb\" target=\"_parent\"><img src=\"https://colab.research.google.com/assets/colab-badge.svg\" alt=\"Open In Colab\"/></a>"
      ]
    },
    {
      "cell_type": "markdown",
      "source": [
        "# Dictionary\n",
        "**Dictionaries are used to store data values in key:value pairs.**\n",
        "\n",
        "A dictionary is a collection which is ordered*, changeable and do not allow duplicates.\n",
        "\n",
        "As of Python version 3.7, dictionaries are ordered. In Python 3.6 and earlier, dictionaries are unordered.\n",
        "\n",
        "Dictionaries are written with curly brackets, and have keys and values:"
      ],
      "metadata": {
        "id": "abv-dowZWa2J"
      }
    },
    {
      "cell_type": "code",
      "execution_count": null,
      "metadata": {
        "id": "_FFk-SWlWDCP"
      },
      "outputs": [],
      "source": [
        "#use integer key and strings values\n",
        "dic = {1:'Tanveer' , 2:'veer',3:'Ali'}\n",
        "print(f'Dic : {dic}')\n",
        "\n",
        "#print values by key\n",
        "print(f'value of Key 1 is : {dic[1]}')\n",
        "print(f'value of Key 2 is : {dic[2]}')\n",
        "print(f'value of Key 3 is : {dic[3]}')\n",
        "\n",
        "#assign values by using key\n",
        "dic[4] ='Kashif'\n",
        "dic[5]='Musa'\n",
        "\n",
        "print(f'Updated Dic : {dic}')"
      ]
    },
    {
      "cell_type": "code",
      "source": [
        "#Operations on Dictionary\n",
        "dic_of_medals ={'gold':21 , 'silver':12,'bronze':9}\n",
        "\n",
        "#use del operator to delete on pair of key value from dic\n",
        "del dic_of_medals['bronze']\n",
        "\n",
        "print(f'dic_of_medals after deleted one values : {dic_of_medals}')\n",
        "\n",
        "#update value of gold medal key\n",
        "dic_of_medals['gold'] += 6\n",
        "\n",
        "print(f'after Updated value of gold :{dic_of_medals}')"
      ],
      "metadata": {
        "id": "exFSAL94azhz"
      },
      "execution_count": null,
      "outputs": []
    },
    {
      "cell_type": "code",
      "source": [
        "#Dictionary Methods\n",
        "fruits ={'apples':23,'pears':44,'bananas':89,'melons':90}\n",
        "\n",
        "for key in fruits.keys():\n",
        "  print(f'{key} has value of :{fruits[key]}')\n",
        "\n",
        "#list of keys\n",
        "listOfKeys =list(fruits.keys())\n",
        "print(f'List of keys : {listOfKeys}')\n",
        "\n",
        "#print values of Values\n",
        "print(f'Values of fruits :{list(fruits.values())}')"
      ],
      "metadata": {
        "id": "2Dn6SCWqdbpN"
      },
      "execution_count": null,
      "outputs": []
    }
  ]
}