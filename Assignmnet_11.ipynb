{
  "nbformat": 4,
  "nbformat_minor": 0,
  "metadata": {
    "colab": {
      "provenance": [],
      "authorship_tag": "ABX9TyOMGfmFQe+Ux10JDJgv+A+/",
      "include_colab_link": true
    },
    "kernelspec": {
      "name": "python3",
      "display_name": "Python 3"
    },
    "language_info": {
      "name": "python"
    }
  },
  "cells": [
    {
      "cell_type": "markdown",
      "metadata": {
        "id": "view-in-github",
        "colab_type": "text"
      },
      "source": [
        "<a href=\"https://colab.research.google.com/github/Tanveer66/Python_Practices/blob/BookUpTrunk/Assignmnet_11.ipynb\" target=\"_parent\"><img src=\"https://colab.research.google.com/assets/colab-badge.svg\" alt=\"Open In Colab\"/></a>"
      ]
    },
    {
      "cell_type": "markdown",
      "source": [
        "# Task_1\n",
        "Below are a set of scores that students have received in the past semester. Write code to determine how many are 90 or above and assign that result to the value a_scores."
      ],
      "metadata": {
        "id": "qyXDYr3MGZhF"
      }
    },
    {
      "cell_type": "code",
      "execution_count": null,
      "metadata": {
        "id": "8bMji72PFs92",
        "colab": {
          "base_uri": "https://localhost:8080/"
        },
        "outputId": "c0d26943-ef96-4ce3-c6d0-bccd3c0f4cfa"
      },
      "outputs": [
        {
          "output_type": "stream",
          "name": "stdout",
          "text": [
            "10\n"
          ]
        }
      ],
      "source": [
        "scores = \"67 80 90 78 93 20 79 89 96 97 92 88 79 68 58 90 98 100 79 74 83 88 80 86 85 70 90 100\"\n",
        "scrList = scores.split()\n",
        "a_score = 0\n",
        "for scr in scrList:\n",
        "  if int(scr) >= 90:\n",
        "    a_score +=1\n",
        "print(a_score)"
      ]
    },
    {
      "cell_type": "markdown",
      "source": [
        "# Task_3\n",
        "Write code that uses the string stored in org and creates an acronym which is assigned to the variable acro. Only the first letter of each word should be used, each letter in the acronym should be a capital letter, and there should be nothing to separate the letters of the acronym. Words that should not be included in the acronym are stored in the list stopwords. For example, if org was assigned the string “hello to world” then the resulting acronym should be “HW”."
      ],
      "metadata": {
        "id": "NSM4Fa3GLFTZ"
      }
    },
    {
      "cell_type": "code",
      "source": [
        "stopwords = ['to', 'a', 'for', 'by', 'an', 'am', 'the', 'so', 'it', 'and', \"The\"]\n",
        "org = \"The organization for health, safety, and education\"\n",
        "acrolist = []\n",
        "mk = org.split()\n",
        "\n",
        "for wrd in mk:\n",
        "  if wrd in stopwords:\n",
        "    mk.remove(wrd)\n",
        "acro =\"\"\n",
        "for che in mk:\n",
        "  acro += che[0].upper()\n",
        "print(acro)"
      ],
      "metadata": {
        "colab": {
          "base_uri": "https://localhost:8080/"
        },
        "id": "dnMoteAeLLtb",
        "outputId": "a7457f4a-2855-4f5a-ee4d-d279e4dcebed"
      },
      "execution_count": null,
      "outputs": [
        {
          "output_type": "stream",
          "name": "stdout",
          "text": [
            "OHSE\n"
          ]
        }
      ]
    },
    {
      "cell_type": "markdown",
      "source": [
        "# Task_3\n",
        "Write code that uses the string stored in sent and creates an acronym which is assigned to the variable acro. The first two letters of each word should be used, each letter in the acronym should be a capital letter, and each element of the acronym should be separated by a “. ” (dot and space). Words that should not be included in the acronym are stored in the list stopwords. For example, if sent was assigned the string “height and ewok wonder” then the resulting acronym should be “HE. EW. WO”."
      ],
      "metadata": {
        "id": "kXBNIUKQOSvv"
      }
    },
    {
      "cell_type": "code",
      "source": [
        "stopwords = ['to', 'a', 'for', 'by', 'an', 'am', 'the', 'so', 'it', 'and', 'The' ,'are']\n",
        "sent = \"The water earth and air are vital\"\n",
        "\n",
        "sp = sent.split()\n",
        "\n",
        "for wrd in sp:\n",
        "  if wrd in stopwords:\n",
        "    sp.remove(wrd)\n",
        "print(sp)\n",
        "acr_ = \"\"\n",
        "for chars in sp:\n",
        "  acr_ +=chars[0:2].upper() +\".\"\n",
        "newstr = acr_.rstrip('.')\n",
        "print(newstr)"
      ],
      "metadata": {
        "id": "tQ2ALvDnOvC1"
      },
      "execution_count": null,
      "outputs": []
    },
    {
      "cell_type": "markdown",
      "source": [
        "# Task_4\n",
        "A palindrome is a phrase that, if reversed, would read the exact same. Write code that checks if p_phrase is a palindrome by reversing it and then checking if the reversed version is equal to the original. Assign the reversed version of p_phrase to the variable r_phrase so that we can check your work"
      ],
      "metadata": {
        "id": "-2LOSxr7VFqD"
      }
    },
    {
      "cell_type": "code",
      "source": [
        "p_phrase = \"was it a car or a cat I saw\"\n",
        "\n",
        "r_phrase =\"\".join(reversed(p_phrase))\n",
        "\n",
        "print(r_phrase)"
      ],
      "metadata": {
        "colab": {
          "base_uri": "https://localhost:8080/"
        },
        "id": "r1icg3oDVLUI",
        "outputId": "52d4be57-569e-479e-8e33-48294f96037d"
      },
      "execution_count": null,
      "outputs": [
        {
          "output_type": "stream",
          "name": "stdout",
          "text": [
            "was I tac a ro rac a ti saw\n"
          ]
        }
      ]
    },
    {
      "cell_type": "markdown",
      "source": [
        "# Task_5\n",
        "Provided is a list of data about a store’s inventory where each item in the list represents the name of an item, how much is in stock, and how much it costs. Print out each item in the list with the same formatting, using the .format method (not string concatenation). For example, the first print statment should read The store has 12 shoes, each for 29.99 USD."
      ],
      "metadata": {
        "id": "Ld0FnH1iW2xz"
      }
    },
    {
      "cell_type": "code",
      "source": [
        "inventory = [\"shoes, 12, 29.99\", \"shirts, 20, 9.99\", \"sweatpants, 25, 15.00\", \"scarves, 13, 7.75\"]"
      ],
      "metadata": {
        "id": "8EeHwYEbW6cx"
      },
      "execution_count": null,
      "outputs": []
    }
  ]
}